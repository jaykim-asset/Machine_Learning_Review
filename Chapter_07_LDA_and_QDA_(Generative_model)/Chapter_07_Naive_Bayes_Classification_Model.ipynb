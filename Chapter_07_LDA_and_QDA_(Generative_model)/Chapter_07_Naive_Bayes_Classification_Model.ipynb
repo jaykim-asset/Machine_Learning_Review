{
 "cells": [
  {
   "cell_type": "code",
   "execution_count": 1,
   "metadata": {},
   "outputs": [],
   "source": [
    "import numpy as np\n",
    "import pandas as pd\n",
    "import os\n",
    "import scipy as sp\n",
    "import matplotlib.pyplot as plt \n",
    "%matplotlib inline \n",
    "import matplotlib as mpl\n",
    "import seaborn as sns\n",
    "\n",
    "from sklearn.metrics import classification_report\n",
    "from sklearn.metrics import confusion_matrix\n",
    "from scipy.stats import multivariate_normal"
   ]
  },
  {
   "cell_type": "markdown",
   "metadata": {},
   "source": [
    "## 7.2 Naive Bayes Classification Model\n",
    "- **Conditional Independece**\n",
    "     - If Random variable of A and B are independent, \n",
    "          $$ P(A, B) = P(A)P(B) $$\n",
    "          \n",
    "     - If Random variable of C exists and follow the below, then it is conditional independence.\n",
    "         $$ P(A, B|C) = P(A|C) P(B|C) $$\n",
    "         \n",
    "     - Symbolized as below,\n",
    "         $$ A \\text{⫫} B \\;\\vert\\; C $$\n",
    "     \n",
    "     - general independance is actually, \n",
    "         $$ A \\text{⫫} B \\;\\vert\\; \\emptyset $$\n",
    "    - If A, B are conditional indepence with C, it will satisfy below,\n",
    "        $$ P(A|B,C) = P(A|C) $$\n",
    "        $$ P(B|A,C) = P(B|C) $$\n",
    "    - Be aware that \n",
    "    \n",
    "$$ P(A,B) = P(A)P(B) \\;\\; \\bcancel{\\implies} \\;\\; P(A,B|C) = P(A|C)P(B|C) $$\n",
    "\n",
    "$$  P(A,B|C) = P(A|C)P(B|C) \\;\\; \\bcancel{\\implies} \\;\\; P(A,B) = P(A)P(B) $$"
   ]
  },
  {
   "cell_type": "markdown",
   "metadata": {},
   "source": [
    "- Let's take a look on an example\n",
    "    - Mother's weight: C (kg)\n",
    "    - Son's weight: A (kg)\n",
    "    - Daughter's weight: B (kg)\n",
    "    - Normal Distributed\n",
    "    - Standard Deviation: 5 (kg)\n",
    "- From the simulation, we will make samples of A,B, and C."
   ]
  },
  {
   "cell_type": "code",
   "execution_count": 2,
   "metadata": {},
   "outputs": [],
   "source": [
    "np.random.seed(0)\n",
    "C = np.random.normal(100, 15, 2000)\n",
    "A = C + np.random.normal(0, 5, 2000)\n",
    "B = C + np.random.normal(0, 5, 2000)"
   ]
  },
  {
   "cell_type": "markdown",
   "metadata": {},
   "source": [
    "- From the scatter plot, A and B have correlation. If C is fixed, the A and B are independent."
   ]
  },
  {
   "cell_type": "code",
   "execution_count": 11,
   "metadata": {},
   "outputs": [
    {
     "data": {
      "image/png": "[encoded data removed]",
      "text/plain": [
       "<Figure size 576x288 with 2 Axes>"
      ]
     },
     "metadata": {},
     "output_type": "display_data"
    }
   ],
   "source": [
    "plt.figure(figsize=(8,4))\n",
    "\n",
    "plt.subplot(121)\n",
    "plt.scatter(B,C)\n",
    "plt.xlabel('A')\n",
    "plt.ylabel('B')\n",
    "plt.xlim(30, 180)\n",
    "plt.ylim(30, 180)\n",
    "plt.title('Correlation of A and B')\n",
    "\n",
    "plt.subplot(122)\n",
    "idx1 = (118 < C) & (C < 122)\n",
    "idx2 = (78 < C) & (C < 82)\n",
    "plt.scatter(A[idx1], B[idx1], label=\"C=120\")\n",
    "plt.scatter(A[idx2], B[idx2], label=\"C=80\")\n",
    "plt.xlabel(\"A\")\n",
    "plt.ylabel(\"B\")\n",
    "plt.xlim(30, 180)\n",
    "plt.ylim(30, 180)\n",
    "plt.legend()\n",
    "plt.title('Correlation of A and B (Fixed C)')\n",
    "\n",
    "plt.tight_layout()\n",
    "plt.show()"
   ]
  },
  {
   "cell_type": "markdown",
   "metadata": {},
   "source": [
    "- **Naive Assumption**\n",
    "    - Let's assum that random variable x is D-dimentional.\n",
    "         $$ x = (x_1, \\ldots, x_D) $$\n",
    "    - In a Naive bayes classification model, it assumes that all the variables are conditional independent, and this is called to be a naive assumption.\n"
   ]
  },
  {
   "cell_type": "code",
   "execution_count": null,
   "metadata": {},
   "outputs": [],
   "source": []
  }
 ],
 "metadata": {
  "kernelspec": {
   "display_name": "Python 3",
   "language": "python",
   "name": "python3"
  },
  "language_info": {
   "codemirror_mode": {
    "name": "ipython",
    "version": 3
   },
   "file_extension": ".py",
   "mimetype": "text/x-python",
   "name": "python",
   "nbconvert_exporter": "python",
   "pygments_lexer": "ipython3",
   "version": "3.6.5"
  }
 },
 "nbformat": 4,
 "nbformat_minor": 2
}
